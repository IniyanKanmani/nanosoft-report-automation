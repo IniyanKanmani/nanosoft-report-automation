{
 "cells": [
  {
   "cell_type": "code",
   "execution_count": 2,
   "metadata": {},
   "outputs": [],
   "source": [
    "import pandas as pd\n",
    "import numpy as np\n",
    "import openpyxl as el"
   ]
  },
  {
   "cell_type": "code",
   "execution_count": 3,
   "metadata": {},
   "outputs": [],
   "source": [
    "input_file = './2024Apr1-2024Apr1CustomTransaction.csv'\n",
    "output_file = './APRIL Amazon Manual report.xlsx'"
   ]
  },
  {
   "cell_type": "code",
   "execution_count": 4,
   "metadata": {},
   "outputs": [],
   "source": [
    "data = pd.read_csv(input_file, header=7)"
   ]
  },
  {
   "cell_type": "code",
   "execution_count": 5,
   "metadata": {},
   "outputs": [],
   "source": [
    "def convert_to_numeric(data, column_name):\n",
    "    if data[column_name].dtype != np.float64 and data[column_name].dtype != np.int64:\n",
    "        for i in range(len(data)):\n",
    "            data[column_name][i] = float(data[column_name][i].replace(',', ''))\n",
    "        data[column_name] = pd.to_numeric(data[column_name])\n",
    "    return data"
   ]
  },
  {
   "cell_type": "code",
   "execution_count": 6,
   "metadata": {},
   "outputs": [],
   "source": [
    "data = convert_to_numeric(data, 'quantity')\n",
    "data = convert_to_numeric(data, 'product sales')\n",
    "data = convert_to_numeric(data, 'product sales tax')\n",
    "data = convert_to_numeric(data, 'total')"
   ]
  },
  {
   "cell_type": "code",
   "execution_count": 7,
   "metadata": {},
   "outputs": [
    {
     "data": {
      "text/html": [
       "<div>\n",
       "<style scoped>\n",
       "    .dataframe tbody tr th:only-of-type {\n",
       "        vertical-align: middle;\n",
       "    }\n",
       "\n",
       "    .dataframe tbody tr th {\n",
       "        vertical-align: top;\n",
       "    }\n",
       "\n",
       "    .dataframe thead th {\n",
       "        text-align: right;\n",
       "    }\n",
       "</style>\n",
       "<table border=\"1\" class=\"dataframe\">\n",
       "  <thead>\n",
       "    <tr style=\"text-align: right;\">\n",
       "      <th></th>\n",
       "      <th>date/time</th>\n",
       "      <th>settlement id</th>\n",
       "      <th>type</th>\n",
       "      <th>order id</th>\n",
       "      <th>sku</th>\n",
       "      <th>description</th>\n",
       "      <th>quantity</th>\n",
       "      <th>marketplace</th>\n",
       "      <th>fulfilment</th>\n",
       "      <th>order city</th>\n",
       "      <th>...</th>\n",
       "      <th>gift wrap credits</th>\n",
       "      <th>giftwrap credits tax</th>\n",
       "      <th>promotional rebates</th>\n",
       "      <th>promotional rebates tax</th>\n",
       "      <th>marketplace withheld tax</th>\n",
       "      <th>selling fees</th>\n",
       "      <th>fba fees</th>\n",
       "      <th>other transaction fees</th>\n",
       "      <th>other</th>\n",
       "      <th>total</th>\n",
       "    </tr>\n",
       "  </thead>\n",
       "  <tbody>\n",
       "    <tr>\n",
       "      <th>0</th>\n",
       "      <td>31 Mar 2024 23:33:31 UTC</td>\n",
       "      <td>21933240822</td>\n",
       "      <td>Order</td>\n",
       "      <td>204-8878064-1506743</td>\n",
       "      <td>WD22TB4NEW</td>\n",
       "      <td>DellDELL WD22TB4 Docking Thunderbolt Zwart (DE...</td>\n",
       "      <td>1</td>\n",
       "      <td>amazon.co.uk</td>\n",
       "      <td>Amazon</td>\n",
       "      <td>LIVINGSTON</td>\n",
       "      <td>...</td>\n",
       "      <td>0</td>\n",
       "      <td>0</td>\n",
       "      <td>-1.66</td>\n",
       "      <td>-0.33</td>\n",
       "      <td>0</td>\n",
       "      <td>-21.62</td>\n",
       "      <td>-3.90</td>\n",
       "      <td>0</td>\n",
       "      <td>0</td>\n",
       "      <td>151.97</td>\n",
       "    </tr>\n",
       "    <tr>\n",
       "      <th>1</th>\n",
       "      <td>1 Apr 2024 01:13:38 UTC</td>\n",
       "      <td>21933240822</td>\n",
       "      <td>Order</td>\n",
       "      <td>202-4967862-7875503</td>\n",
       "      <td>MY-0IHR-ICWL</td>\n",
       "      <td>Dell D3100 Docking Station 3, 0 Ultra HD Tripl...</td>\n",
       "      <td>1</td>\n",
       "      <td>amazon.co.uk</td>\n",
       "      <td>Amazon</td>\n",
       "      <td>Colchester</td>\n",
       "      <td>...</td>\n",
       "      <td>0</td>\n",
       "      <td>0</td>\n",
       "      <td>-0.83</td>\n",
       "      <td>-0.17</td>\n",
       "      <td>0</td>\n",
       "      <td>-11.63</td>\n",
       "      <td>-3.90</td>\n",
       "      <td>0</td>\n",
       "      <td>0</td>\n",
       "      <td>60.46</td>\n",
       "    </tr>\n",
       "    <tr>\n",
       "      <th>2</th>\n",
       "      <td>1 Apr 2024 02:18:29 UTC</td>\n",
       "      <td>21933240822</td>\n",
       "      <td>Order</td>\n",
       "      <td>026-3582002-5081108</td>\n",
       "      <td>KE-YKQ1-JYS2</td>\n",
       "      <td>Dell P2219H 21.5 inch LED IPS Monitor - IPS Pa...</td>\n",
       "      <td>1</td>\n",
       "      <td>amazon.co.uk</td>\n",
       "      <td>Amazon</td>\n",
       "      <td>LONDON</td>\n",
       "      <td>...</td>\n",
       "      <td>0</td>\n",
       "      <td>0</td>\n",
       "      <td>0.00</td>\n",
       "      <td>0.00</td>\n",
       "      <td>0</td>\n",
       "      <td>-7.78</td>\n",
       "      <td>-10.24</td>\n",
       "      <td>0</td>\n",
       "      <td>0</td>\n",
       "      <td>90.96</td>\n",
       "    </tr>\n",
       "    <tr>\n",
       "      <th>3</th>\n",
       "      <td>1 Apr 2024 02:25:46 UTC</td>\n",
       "      <td>21933240822</td>\n",
       "      <td>Order</td>\n",
       "      <td>026-3582002-5081108</td>\n",
       "      <td>KE-YKQ1-JYS2</td>\n",
       "      <td>Dell P2219H 21.5 inch LED IPS Monitor - IPS Pa...</td>\n",
       "      <td>1</td>\n",
       "      <td>amazon.co.uk</td>\n",
       "      <td>Amazon</td>\n",
       "      <td>LONDON</td>\n",
       "      <td>...</td>\n",
       "      <td>0</td>\n",
       "      <td>0</td>\n",
       "      <td>0.00</td>\n",
       "      <td>0.00</td>\n",
       "      <td>0</td>\n",
       "      <td>-7.78</td>\n",
       "      <td>-10.24</td>\n",
       "      <td>0</td>\n",
       "      <td>0</td>\n",
       "      <td>90.96</td>\n",
       "    </tr>\n",
       "    <tr>\n",
       "      <th>4</th>\n",
       "      <td>1 Apr 2024 04:20:40 UTC</td>\n",
       "      <td>21933240822</td>\n",
       "      <td>Order</td>\n",
       "      <td>204-9276975-1855516</td>\n",
       "      <td>W6-TUC7-NPFN</td>\n",
       "      <td>Dell (Genuine) Quick Release PC Monitor Stand,...</td>\n",
       "      <td>1</td>\n",
       "      <td>amazon.co.uk</td>\n",
       "      <td>Amazon</td>\n",
       "      <td>Doncaster</td>\n",
       "      <td>...</td>\n",
       "      <td>0</td>\n",
       "      <td>0</td>\n",
       "      <td>0.00</td>\n",
       "      <td>0.00</td>\n",
       "      <td>0</td>\n",
       "      <td>-4.05</td>\n",
       "      <td>-6.19</td>\n",
       "      <td>0</td>\n",
       "      <td>0</td>\n",
       "      <td>16.25</td>\n",
       "    </tr>\n",
       "  </tbody>\n",
       "</table>\n",
       "<p>5 rows × 27 columns</p>\n",
       "</div>"
      ],
      "text/plain": [
       "                  date/time  settlement id   type             order id  \\\n",
       "0  31 Mar 2024 23:33:31 UTC    21933240822  Order  204-8878064-1506743   \n",
       "1   1 Apr 2024 01:13:38 UTC    21933240822  Order  202-4967862-7875503   \n",
       "2   1 Apr 2024 02:18:29 UTC    21933240822  Order  026-3582002-5081108   \n",
       "3   1 Apr 2024 02:25:46 UTC    21933240822  Order  026-3582002-5081108   \n",
       "4   1 Apr 2024 04:20:40 UTC    21933240822  Order  204-9276975-1855516   \n",
       "\n",
       "            sku                                        description  quantity  \\\n",
       "0    WD22TB4NEW  DellDELL WD22TB4 Docking Thunderbolt Zwart (DE...         1   \n",
       "1  MY-0IHR-ICWL  Dell D3100 Docking Station 3, 0 Ultra HD Tripl...         1   \n",
       "2  KE-YKQ1-JYS2  Dell P2219H 21.5 inch LED IPS Monitor - IPS Pa...         1   \n",
       "3  KE-YKQ1-JYS2  Dell P2219H 21.5 inch LED IPS Monitor - IPS Pa...         1   \n",
       "4  W6-TUC7-NPFN  Dell (Genuine) Quick Release PC Monitor Stand,...         1   \n",
       "\n",
       "    marketplace fulfilment  order city  ... gift wrap credits  \\\n",
       "0  amazon.co.uk     Amazon  LIVINGSTON  ...                 0   \n",
       "1  amazon.co.uk     Amazon  Colchester  ...                 0   \n",
       "2  amazon.co.uk     Amazon      LONDON  ...                 0   \n",
       "3  amazon.co.uk     Amazon      LONDON  ...                 0   \n",
       "4  amazon.co.uk     Amazon   Doncaster  ...                 0   \n",
       "\n",
       "  giftwrap credits tax  promotional rebates  promotional rebates tax  \\\n",
       "0                    0                -1.66                    -0.33   \n",
       "1                    0                -0.83                    -0.17   \n",
       "2                    0                 0.00                     0.00   \n",
       "3                    0                 0.00                     0.00   \n",
       "4                    0                 0.00                     0.00   \n",
       "\n",
       "   marketplace withheld tax  selling fees  fba fees  other transaction fees  \\\n",
       "0                         0        -21.62     -3.90                       0   \n",
       "1                         0        -11.63     -3.90                       0   \n",
       "2                         0         -7.78    -10.24                       0   \n",
       "3                         0         -7.78    -10.24                       0   \n",
       "4                         0         -4.05     -6.19                       0   \n",
       "\n",
       "   other   total  \n",
       "0      0  151.97  \n",
       "1      0   60.46  \n",
       "2      0   90.96  \n",
       "3      0   90.96  \n",
       "4      0   16.25  \n",
       "\n",
       "[5 rows x 27 columns]"
      ]
     },
     "execution_count": 7,
     "metadata": {},
     "output_type": "execute_result"
    }
   ],
   "source": [
    "data.head()"
   ]
  },
  {
   "cell_type": "code",
   "execution_count": 8,
   "metadata": {},
   "outputs": [
    {
     "name": "stdout",
     "output_type": "stream",
     "text": [
      "<class 'pandas.core.frame.DataFrame'>\n",
      "RangeIndex: 19 entries, 0 to 18\n",
      "Data columns (total 27 columns):\n",
      " #   Column                    Non-Null Count  Dtype  \n",
      "---  ------                    --------------  -----  \n",
      " 0   date/time                 19 non-null     object \n",
      " 1   settlement id             19 non-null     int64  \n",
      " 2   type                      19 non-null     object \n",
      " 3   order id                  19 non-null     object \n",
      " 4   sku                       19 non-null     object \n",
      " 5   description               19 non-null     object \n",
      " 6   quantity                  19 non-null     int64  \n",
      " 7   marketplace               19 non-null     object \n",
      " 8   fulfilment                19 non-null     object \n",
      " 9   order city                19 non-null     object \n",
      " 10  order state               8 non-null      object \n",
      " 11  order postal              19 non-null     object \n",
      " 12  tax collection model      0 non-null      float64\n",
      " 13  product sales             19 non-null     float64\n",
      " 14  product sales tax         19 non-null     float64\n",
      " 15  postage credits           19 non-null     float64\n",
      " 16  shipping credits tax      19 non-null     float64\n",
      " 17  gift wrap credits         19 non-null     int64  \n",
      " 18  giftwrap credits tax      19 non-null     int64  \n",
      " 19  promotional rebates       19 non-null     float64\n",
      " 20  promotional rebates tax   19 non-null     float64\n",
      " 21  marketplace withheld tax  19 non-null     int64  \n",
      " 22  selling fees              19 non-null     float64\n",
      " 23  fba fees                  19 non-null     float64\n",
      " 24  other transaction fees    19 non-null     int64  \n",
      " 25  other                     19 non-null     int64  \n",
      " 26  total                     19 non-null     float64\n",
      "dtypes: float64(10), int64(7), object(10)\n",
      "memory usage: 4.1+ KB\n"
     ]
    }
   ],
   "source": [
    "data.info()"
   ]
  },
  {
   "cell_type": "code",
   "execution_count": 9,
   "metadata": {},
   "outputs": [],
   "source": [
    "adjustment = data.loc[data['type'] == 'Adjustment']['total'].astype(np.float64).sum()"
   ]
  },
  {
   "cell_type": "code",
   "execution_count": 10,
   "metadata": {},
   "outputs": [],
   "source": [
    "fba_inventory_fee = data.loc[data['type'] == 'FBA Inventory Fee']['total'].astype(np.float64).sum() * -1"
   ]
  },
  {
   "cell_type": "code",
   "execution_count": 11,
   "metadata": {},
   "outputs": [],
   "source": [
    "service_fee = data.loc[data['type'] == 'Service Fee']['total'].astype(np.float64).sum() * -1"
   ]
  },
  {
   "cell_type": "code",
   "execution_count": 12,
   "metadata": {},
   "outputs": [],
   "source": [
    "product_sales_tax = data.loc[data['type'] == 'Order']['product sales tax'].astype(np.float64).sum()"
   ]
  },
  {
   "cell_type": "code",
   "execution_count": 13,
   "metadata": {},
   "outputs": [],
   "source": [
    "paid_transaction_gross = data.loc[data['type'] == 'Order']['product sales'].astype(np.float64).sum() + data.loc[data['type'] == 'Order']['product sales tax'].astype(np.float64).sum()"
   ]
  },
  {
   "cell_type": "code",
   "execution_count": 14,
   "metadata": {},
   "outputs": [],
   "source": [
    "sales_after_amazon_sales_fees = data.loc[data['type'] == 'Order']['total'].astype(np.float64).sum()"
   ]
  },
  {
   "cell_type": "code",
   "execution_count": 15,
   "metadata": {},
   "outputs": [],
   "source": [
    "amazon_fees_on_orders = paid_transaction_gross - sales_after_amazon_sales_fees"
   ]
  },
  {
   "cell_type": "code",
   "execution_count": 16,
   "metadata": {},
   "outputs": [],
   "source": [
    "returns = data.loc[data['type'] == 'Refund']['total'].astype(np.float64).sum() * -1"
   ]
  },
  {
   "cell_type": "code",
   "execution_count": 17,
   "metadata": {},
   "outputs": [],
   "source": [
    "reclaimed_vat = data.loc[data['type'] == 'Refund']['product sales tax'].astype(np.float64).sum() * -1"
   ]
  },
  {
   "cell_type": "code",
   "execution_count": 18,
   "metadata": {},
   "outputs": [],
   "source": [
    "retrocharge = data.loc[data['type'] == 'Retrocharge']['total'].astype(np.float64).sum()"
   ]
  },
  {
   "cell_type": "code",
   "execution_count": 19,
   "metadata": {},
   "outputs": [],
   "source": [
    "order_sku_quantity_tax_total = data.loc[data['type'] == 'Order'][['sku', 'quantity', 'product sales tax', 'total']]"
   ]
  },
  {
   "cell_type": "code",
   "execution_count": 20,
   "metadata": {},
   "outputs": [],
   "source": [
    "new_order_sku_quantity_tax_total = order_sku_quantity_tax_total.groupby(['sku'], as_index=False).sum()"
   ]
  },
  {
   "cell_type": "code",
   "execution_count": 21,
   "metadata": {},
   "outputs": [],
   "source": [
    "refund_sku_quantity = data.loc[data['type'] == 'Refund'][['sku', 'quantity']]"
   ]
  },
  {
   "cell_type": "code",
   "execution_count": 22,
   "metadata": {},
   "outputs": [],
   "source": [
    "new_refund_sku_quantity = refund_sku_quantity.groupby(['sku'], as_index=False).sum()"
   ]
  },
  {
   "cell_type": "code",
   "execution_count": 23,
   "metadata": {},
   "outputs": [],
   "source": [
    "order_refund_sku = np.concatenate((data.loc[data['type'] == 'Order']['sku'].unique(), data.loc[data['type'] == 'Refund']['sku'].unique()))"
   ]
  },
  {
   "cell_type": "code",
   "execution_count": 24,
   "metadata": {},
   "outputs": [],
   "source": [
    "order_refund_sku = np.unique(order_refund_sku)"
   ]
  },
  {
   "cell_type": "code",
   "execution_count": 25,
   "metadata": {},
   "outputs": [],
   "source": [
    "wb = el.load_workbook(output_file)"
   ]
  },
  {
   "cell_type": "code",
   "execution_count": 26,
   "metadata": {},
   "outputs": [],
   "source": [
    "ws1 = wb['Sheet1']"
   ]
  },
  {
   "cell_type": "code",
   "execution_count": 27,
   "metadata": {},
   "outputs": [],
   "source": [
    "ws1['B16'].value = adjustment"
   ]
  },
  {
   "cell_type": "code",
   "execution_count": 28,
   "metadata": {},
   "outputs": [],
   "source": [
    "ws1['B9'].value = fba_inventory_fee"
   ]
  },
  {
   "cell_type": "code",
   "execution_count": 29,
   "metadata": {},
   "outputs": [],
   "source": [
    "ws1['B8'].value = service_fee"
   ]
  },
  {
   "cell_type": "code",
   "execution_count": 30,
   "metadata": {},
   "outputs": [],
   "source": [
    "ws1['B5'].value = product_sales_tax"
   ]
  },
  {
   "cell_type": "code",
   "execution_count": 31,
   "metadata": {},
   "outputs": [],
   "source": [
    "ws1['B3'].value = paid_transaction_gross"
   ]
  },
  {
   "cell_type": "code",
   "execution_count": 32,
   "metadata": {},
   "outputs": [],
   "source": [
    "ws1['B4'].value = sales_after_amazon_sales_fees"
   ]
  },
  {
   "cell_type": "code",
   "execution_count": 33,
   "metadata": {},
   "outputs": [],
   "source": [
    "ws1['B6'].value = amazon_fees_on_orders"
   ]
  },
  {
   "cell_type": "code",
   "execution_count": 34,
   "metadata": {},
   "outputs": [],
   "source": [
    "ws1['B13'].value = returns"
   ]
  },
  {
   "cell_type": "code",
   "execution_count": 35,
   "metadata": {},
   "outputs": [],
   "source": [
    "ws1['B14'].value = reclaimed_vat"
   ]
  },
  {
   "cell_type": "code",
   "execution_count": 36,
   "metadata": {},
   "outputs": [],
   "source": [
    "ws1['B21'].value = retrocharge"
   ]
  },
  {
   "cell_type": "code",
   "execution_count": 37,
   "metadata": {},
   "outputs": [],
   "source": [
    "wb.save(output_file)"
   ]
  },
  {
   "cell_type": "code",
   "execution_count": 38,
   "metadata": {},
   "outputs": [],
   "source": [
    "i = 27\n",
    "\n",
    "while ws1.cell(row=i, column=1).value != None:\n",
    "    if ws1.cell(row=i, column=1).value in new_order_sku_quantity_tax_total['sku'].unique():\n",
    "        ws1.cell(row=i, column=5).value = new_order_sku_quantity_tax_total.loc[new_order_sku_quantity_tax_total['sku'] == ws1.cell(row=i, column=1).value]['quantity'].astype(np.float64).item()\n",
    "    i = i + 1"
   ]
  },
  {
   "cell_type": "code",
   "execution_count": 39,
   "metadata": {},
   "outputs": [],
   "source": [
    "wb.save(output_file)"
   ]
  },
  {
   "cell_type": "code",
   "execution_count": 40,
   "metadata": {},
   "outputs": [],
   "source": [
    "i = 27\n",
    "\n",
    "while ws1.cell(row=i, column=1).value != None:\n",
    "    if ws1.cell(row=i, column=1).value in new_refund_sku_quantity['sku'].unique():\n",
    "        ws1.cell(row=i, column=14).value = new_refund_sku_quantity.loc[new_refund_sku_quantity['sku'] == ws1.cell(row=i, column=1).value]['quantity'].astype(np.float64).item()\n",
    "    i = i + 1"
   ]
  },
  {
   "cell_type": "code",
   "execution_count": 41,
   "metadata": {},
   "outputs": [],
   "source": [
    "wb.save(output_file)"
   ]
  },
  {
   "cell_type": "code",
   "execution_count": 42,
   "metadata": {},
   "outputs": [],
   "source": [
    "i = 27\n",
    "\n",
    "while ws1.cell(row=i, column=1).value != None:\n",
    "    if ws1.cell(row=i, column=1).value in new_refund_sku_quantity['sku'].unique():\n",
    "        ws1.cell(row=i, column=15).value = ws1.cell(row=i, column=4).value * ws1.cell(row=i, column=14).value\n",
    "    i = i + 1"
   ]
  },
  {
   "cell_type": "code",
   "execution_count": 43,
   "metadata": {},
   "outputs": [],
   "source": [
    "wb.save(output_file)"
   ]
  },
  {
   "cell_type": "code",
   "execution_count": 44,
   "metadata": {},
   "outputs": [],
   "source": [
    "i = 27\n",
    "\n",
    "while ws1.cell(row=i, column=1).value != None:\n",
    "    if ws1.cell(row=i, column=1).value in new_order_sku_quantity_tax_total['sku'].unique():\n",
    "        ws1.cell(row=i, column=6).value = new_order_sku_quantity_tax_total.loc[new_order_sku_quantity_tax_total['sku'] == ws1.cell(row=i, column=1).value]['product sales tax'].astype(np.float64).item()\n",
    "    i = i + 1"
   ]
  },
  {
   "cell_type": "code",
   "execution_count": 45,
   "metadata": {},
   "outputs": [],
   "source": [
    "wb.save(output_file)"
   ]
  },
  {
   "cell_type": "code",
   "execution_count": 46,
   "metadata": {},
   "outputs": [],
   "source": [
    "i = 27\n",
    "\n",
    "while ws1.cell(row=i, column=1).value != None:\n",
    "    if ws1.cell(row=i, column=1).value in new_order_sku_quantity_tax_total['sku'].unique():\n",
    "        ws1.cell(row=i, column=7).value = new_order_sku_quantity_tax_total.loc[new_order_sku_quantity_tax_total['sku'] == ws1.cell(row=i, column=1).value]['total'].astype(np.float64).item()\n",
    "    i = i + 1"
   ]
  },
  {
   "cell_type": "code",
   "execution_count": 47,
   "metadata": {},
   "outputs": [],
   "source": [
    "wb.save(output_file)"
   ]
  },
  {
   "cell_type": "code",
   "execution_count": 48,
   "metadata": {},
   "outputs": [],
   "source": [
    "report_file_sku = []\n",
    "\n",
    "i = 27\n",
    "\n",
    "while ws1.cell(row=i, column=1).value != None:\n",
    "    report_file_sku.append(ws1.cell(row=i, column=1).value)\n",
    "    i = i + 1"
   ]
  },
  {
   "cell_type": "code",
   "execution_count": 49,
   "metadata": {},
   "outputs": [],
   "source": [
    "ws2 = wb['Sheet2']"
   ]
  },
  {
   "cell_type": "code",
   "execution_count": 50,
   "metadata": {},
   "outputs": [],
   "source": [
    "for val in order_refund_sku:\n",
    "    if val not in report_file_sku:\n",
    "        i = 1\n",
    "        while ws2.cell(row=i, column=1).value != None: \n",
    "            i = i + 1\n",
    "        ws2.cell(row=i, column=1).value = val"
   ]
  },
  {
   "cell_type": "code",
   "execution_count": 51,
   "metadata": {},
   "outputs": [],
   "source": [
    "wb.save(output_file)"
   ]
  },
  {
   "cell_type": "code",
   "execution_count": null,
   "metadata": {},
   "outputs": [],
   "source": []
  }
 ],
 "metadata": {
  "kernelspec": {
   "display_name": "Python 3",
   "language": "python",
   "name": "python3"
  },
  "language_info": {
   "codemirror_mode": {
    "name": "ipython",
    "version": 3
   },
   "file_extension": ".py",
   "mimetype": "text/x-python",
   "name": "python",
   "nbconvert_exporter": "python",
   "pygments_lexer": "ipython3",
   "version": "3.10.12"
  }
 },
 "nbformat": 4,
 "nbformat_minor": 2
}
